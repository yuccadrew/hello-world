{
 "cells": [
  {
   "cell_type": "markdown",
   "id": "a69fccc8-0c50-4c7e-8057-8bae3633c913",
   "metadata": {},
   "source": [
    "# Tutorial for sipmod"
   ]
  },
  {
   "cell_type": "markdown",
   "id": "deb5c043-fa4f-4659-8b2b-3448aef4aecc",
   "metadata": {},
   "source": [
    "Run the following cell to download libraries:"
   ]
  },
  {
   "cell_type": "code",
   "execution_count": null,
   "id": "f2ae051b-e867-46a8-9e91-507955e841e0",
   "metadata": {},
   "outputs": [],
   "source": [
    "!git clone https://github.com/yuccadrew/sip.git"
   ]
  },
  {
   "cell_type": "markdown",
   "id": "fc9bca88-5604-4b29-8ee6-6df4197a83b2",
   "metadata": {},
   "source": [
    "# Import the finite element mesh"
   ]
  },
  {
   "cell_type": "code",
   "execution_count": null,
   "id": "5d3f5fbf-904c-4a32-8530-32b8aec0a0ff",
   "metadata": {},
   "outputs": [],
   "source": [
    "import sys\n",
    "import os\n",
    "sys.path.insert(0, os.path.abspath('sip'))\n",
    "\n",
    "import numpy as np\n",
    "import scipy.sparse.linalg as spl\n",
    "\n",
    "from sipmod import *\n",
    "\n",
    "# Import mesh and compute basis functions\n",
    "mesh_prefix = 'sip/docs/examples/meshes/mesh_ex01'\n",
    "mesh = MeshTri.read(mesh_prefix+'.1', scale_factor=1e-6)\n",
    "mesh.draw().show()"
   ]
  },
  {
   "cell_type": "markdown",
   "id": "e5dabd2d-ad1a-43c8-83f7-e7dd4735d4a1",
   "metadata": {},
   "source": [
    "# Compute the basis functions"
   ]
  },
  {
   "cell_type": "code",
   "execution_count": null,
   "id": "2fcd2b3a-176f-4cc0-aa83-cb7889355fff",
   "metadata": {},
   "outputs": [],
   "source": [
    "basis = CellBasisTri(mesh)\n",
    "basis"
   ]
  },
  {
   "cell_type": "markdown",
   "id": "aaf20350-ae1b-4989-b81d-3a1dda0b696c",
   "metadata": {},
   "source": [
    "# Define the parameters"
   ]
  },
  {
   "cell_type": "code",
   "execution_count": null,
   "id": "60454a90-f2a3-4444-9950-26db271a04c9",
   "metadata": {},
   "outputs": [],
   "source": [
    "# Define function of nonuniform load\n",
    "@Form\n",
    "def domain_params(x, y, *args, **kwargs):\n",
    "    r = np.sqrt(x**2 + y**2)\n",
    "    f = np.zeros(len(r))\n",
    "    mask = r > 0\n",
    "    f[mask] = np.pi / 2 * (1 / r[mask] * np.sin(np.pi * r[mask] / 2) +\n",
    "                           np.pi / 2 * np.cos(np.pi * r[mask] / 2))\n",
    "    f[~mask] = np.pi**2 / 2\n",
    "    return {'f': f}\n",
    "\n",
    "# Define function of nonhomogeneous boundary condition\n",
    "@Form\n",
    "def boundary_params(x, y, *args, **kwargs):\n",
    "    r = np.sqrt(x**2 + y**2)\n",
    "    s = np.cos(np.pi * r / 2)\n",
    "    return {'s': s}"
   ]
  },
  {
   "cell_type": "markdown",
   "id": "c7d4d311-579d-491e-af5b-f0d8561d20de",
   "metadata": {},
   "source": [
    "# Define the forms"
   ]
  },
  {
   "cell_type": "code",
   "execution_count": null,
   "id": "f50686ea-534d-4fb1-a8dd-ba6aeba6c2c1",
   "metadata": {},
   "outputs": [],
   "source": [
    "# Define bilinear form for assembling LSH of the linear system\n",
    "@BilinearForm(c=1)\n",
    "def laplace(u, v, w):\n",
    "    return (\n",
    "        w.c * u.grad[0] * v.grad[0] +\n",
    "        w.c * u.grad[1] * v.grad[1]\n",
    "    )\n",
    "\n",
    "# Define linear form for assembling RHS of the linear system\n",
    "@LinearForm(w=domain_params)\n",
    "def nonuniform_load(_, w):\n",
    "    return w.f / 3"
   ]
  },
  {
   "cell_type": "markdown",
   "id": "4ba039de-fac6-45a9-a471-e11f2f56e9ba",
   "metadata": {},
   "source": [
    "# Assemble and solve the linear system"
   ]
  },
  {
   "cell_type": "code",
   "execution_count": null,
   "id": "7d74025b-4aaf-4f4e-9489-f8c9fbc236e6",
   "metadata": {},
   "outputs": [],
   "source": [
    "# Assemble the system of equations\n",
    "A = laplace.assemble(basis).todefault()\n",
    "b = nonuniform_load.assemble(basis).todefault()\n",
    "\n",
    "# Incoorprate the Dirichlet boundary condition\n",
    "boundary_nodes = mesh.boundary_nodes('outer')\n",
    "D = boundary_nodes['id']\n",
    "s = boundary_params(**boundary_nodes)['s']\n",
    "A, b = set_first_kind_bc(A, b, s, D)\n",
    "\n",
    "# Call the sparse linear system solver\n",
    "x = spl.spsolve(A, b)"
   ]
  },
  {
   "cell_type": "markdown",
   "id": "c42274b3-496e-49a5-8d79-989280ce0df4",
   "metadata": {},
   "source": [
    "# Visualize the solution"
   ]
  },
  {
   "cell_type": "code",
   "execution_count": null,
   "id": "70896e42-7a0a-45cf-9ac5-8985e31a03c4",
   "metadata": {},
   "outputs": [],
   "source": [
    "mesh.plot(x, cmap='jet').show()"
   ]
  }
 ],
 "metadata": {
  "kernelspec": {
   "display_name": "Python 3 (ipykernel)",
   "language": "python",
   "name": "python3"
  },
  "language_info": {
   "codemirror_mode": {
    "name": "ipython",
    "version": 3
   },
   "file_extension": ".py",
   "mimetype": "text/x-python",
   "name": "python",
   "nbconvert_exporter": "python",
   "pygments_lexer": "ipython3",
   "version": "3.9.13"
  }
 },
 "nbformat": 4,
 "nbformat_minor": 5
}
