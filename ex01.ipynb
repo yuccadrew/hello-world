{
 "cells": [
  {
   "cell_type": "markdown",
   "id": "a69fccc8-0c50-4c7e-8057-8bae3633c913",
   "metadata": {},
   "source": [
    "# Tutorial for sipmod"
   ]
  },
  {
   "cell_type": "markdown",
   "id": "deb5c043-fa4f-4659-8b2b-3448aef4aecc",
   "metadata": {},
   "source": [
    "Run the following cell to download libraries:"
   ]
  },
  {
   "cell_type": "code",
   "execution_count": null,
   "id": "f2ae051b-e867-46a8-9e91-507955e841e0",
   "metadata": {},
   "outputs": [],
   "source": [
    "!git clone https://github.com/yuccadrew/sipmod.git"
   ]
  },
  {
   "cell_type": "markdown",
   "id": "fc9bca88-5604-4b29-8ee6-6df4197a83b2",
   "metadata": {},
   "source": [
    "# Import the finite element mesh"
   ]
  },
  {
   "cell_type": "code",
   "execution_count": null,
   "id": "5d3f5fbf-904c-4a32-8530-32b8aec0a0ff",
   "metadata": {},
   "outputs": [],
   "source": [
    "import sys\n",
    "import os\n",
    "sys.path.insert(0, os.path.abspath('sipmod'))\n",
    "\n",
    "import numpy as np\n",
    "from sipmod import *\n",
    "\n",
    "# Import mesh and compute basis functions\n",
    "mesh_prefix = 'sipmod/docs/examples/meshes/mesh_ex01'\n",
    "mesh = MeshTri.read(mesh_prefix+'.1', scale_factor=1e-6)\n",
    "mesh.draw().show()"
   ]
  },
  {
   "cell_type": "markdown",
   "id": "e5dabd2d-ad1a-43c8-83f7-e7dd4735d4a1",
   "metadata": {},
   "source": [
    "# Compute the basis functions"
   ]
  },
  {
   "cell_type": "code",
   "execution_count": null,
   "id": "2fcd2b3a-176f-4cc0-aa83-cb7889355fff",
   "metadata": {},
   "outputs": [],
   "source": [
    "basis = CellBasisTri(mesh)\n",
    "basis"
   ]
  },
  {
   "cell_type": "markdown",
   "id": "c7d4d311-579d-491e-af5b-f0d8561d20de",
   "metadata": {},
   "source": [
    "# Define the forms"
   ]
  },
  {
   "cell_type": "code",
   "execution_count": null,
   "id": "f50686ea-534d-4fb1-a8dd-ba6aeba6c2c1",
   "metadata": {},
   "outputs": [],
   "source": [
    "# Define bilinear form for assembling LSH of the linear system\n",
    "@BilinearForm\n",
    "def laplace(u, v, w):\n",
    "    c = 1.\n",
    "    return (\n",
    "        c * u.grad[0] * v.grad[0] +\n",
    "        c * u.grad[1] * v.grad[1]\n",
    "    ) * w.area\n",
    "\n",
    "# Define linear form for assembling RHS of the linear system\n",
    "@LinearForm\n",
    "def nonuniform_load(_, w):\n",
    "    dist = np.sqrt(w.x ** 2 + w.y ** 2)\n",
    "    f = np.zeros_like(dist)\n",
    "    mask = dist > 0\n",
    "    f[mask] = (np.sin(np.pi / 2 * dist[mask]) / dist[mask] +\n",
    "               np.cos(np.pi / 2 * dist[mask]) * np.pi / 2) * np.pi / 2\n",
    "    f[~mask] = np.pi ** 2 / 2\n",
    "    return (f / 3) * w.area"
   ]
  },
  {
   "cell_type": "markdown",
   "id": "4ba039de-fac6-45a9-a471-e11f2f56e9ba",
   "metadata": {},
   "source": [
    "# Assemble and solve the linear system"
   ]
  },
  {
   "cell_type": "code",
   "execution_count": null,
   "id": "7d74025b-4aaf-4f4e-9489-f8c9fbc236e6",
   "metadata": {},
   "outputs": [],
   "source": [
    "# Define any function for your needs\n",
    "def solution(x, y):\n",
    "    return np.cos(np.pi * np.sqrt(x ** 2 + y ** 2) / 2)\n",
    "\n",
    "# Assemble the system of equations\n",
    "A = laplace.assemble(basis)\n",
    "b = nonuniform_load.assemble(basis)\n",
    "\n",
    "# Incoorprate the Dirichlet boundary condition\n",
    "boundary_nodes = mesh.boundary_nodes('outer')\n",
    "D = boundary_nodes['id']\n",
    "s = solution(boundary_nodes['x'], boundary_nodes['y'])\n",
    "A, b = set_first_kind_bc(A, b, s, D)\n",
    "\n",
    "# Call the sparse linear system solver\n",
    "x = solve(A, b)"
   ]
  },
  {
   "cell_type": "markdown",
   "id": "c42274b3-496e-49a5-8d79-989280ce0df4",
   "metadata": {},
   "source": [
    "# Visualize the solution"
   ]
  },
  {
   "cell_type": "code",
   "execution_count": null,
   "id": "70896e42-7a0a-45cf-9ac5-8985e31a03c4",
   "metadata": {},
   "outputs": [],
   "source": [
    "mesh.plot(x, cmap='jet').show()"
   ]
  },
  {
   "cell_type": "markdown",
   "id": "a7202ca5-52f9-4db3-8b6c-0e2f63468f76",
   "metadata": {},
   "source": [
    "Check the [gallery](https://sipmod.readthedocs.io/en/latest/) for more examples."
   ]
  }
 ],
 "metadata": {
  "kernelspec": {
   "display_name": "Python 3 (ipykernel)",
   "language": "python",
   "name": "python3"
  },
  "language_info": {
   "codemirror_mode": {
    "name": "ipython",
    "version": 3
   },
   "file_extension": ".py",
   "mimetype": "text/x-python",
   "name": "python",
   "nbconvert_exporter": "python",
   "pygments_lexer": "ipython3",
   "version": "3.9.13"
  }
 },
 "nbformat": 4,
 "nbformat_minor": 5
}
