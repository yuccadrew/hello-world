{
 "cells": [
  {
   "cell_type": "code",
   "execution_count": null,
   "id": "f2ae051b-e867-46a8-9e91-507955e841e0",
   "metadata": {},
   "outputs": [],
   "source": [
    "!git clone https://github.com/yuccadrew/sip.git"
   ]
  },
  {
   "cell_type": "code",
   "execution_count": null,
   "id": "5d3f5fbf-904c-4a32-8530-32b8aec0a0ff",
   "metadata": {},
   "outputs": [],
   "source": [
    "import sys\n",
    "import os\n",
    "sys.path.insert(0, os.path.abspath('sip'))\n",
    "\n",
    "import numpy as np\n",
    "import scipy.sparse.linalg as spl\n",
    "\n",
    "from sipmod import *\n",
    "\n",
    "# Import mesh and compute basis functions\n",
    "mesh_prefix = 'sip/docs/examples/meshes/mesh_ex01'\n",
    "mesh = MeshTri.read(mesh_prefix+'.1', scale_factor=1e-6)\n",
    "mesh.draw()"
   ]
  },
  {
   "cell_type": "code",
   "execution_count": null,
   "id": "7fc32b7e-1615-45a1-abf9-a88188a93a3a",
   "metadata": {},
   "outputs": [],
   "source": []
  }
 ],
 "metadata": {
  "kernelspec": {
   "display_name": "Python 3 (ipykernel)",
   "language": "python",
   "name": "python3"
  },
  "language_info": {
   "codemirror_mode": {
    "name": "ipython",
    "version": 3
   },
   "file_extension": ".py",
   "mimetype": "text/x-python",
   "name": "python",
   "nbconvert_exporter": "python",
   "pygments_lexer": "ipython3",
   "version": "3.9.13"
  }
 },
 "nbformat": 4,
 "nbformat_minor": 5
}
